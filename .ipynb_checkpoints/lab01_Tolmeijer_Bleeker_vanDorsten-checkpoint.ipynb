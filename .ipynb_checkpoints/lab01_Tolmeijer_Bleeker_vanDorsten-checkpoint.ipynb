{
 "cells": [
  {
   "cell_type": "markdown",
   "metadata": {},
   "source": [
    "# Lab 1: Linear Regression and Overfitting\n",
    "\n",
    "### Machine Learning and Pattern Recognition, September 2015\n",
    "\n",
    "* The lab exercises should be made in groups of two or three people.\n",
    "* The deadline is sunday September 20, 23:59.\n",
    "* Assignment should be sent to Philip Versteeg. (p.j.j.p.versteeg@uva.nl) The subject line of your email should be \"\\#lab\\_lastname1\\_lastname2\\_lastname3\".\n",
    "* Put your and your teammates' names in the body of the email\n",
    "* Attach the .IPYNB (IPython Notebook) file containing your code and answers. Naming of the file follows the same rule as the subject line. For example, if the subject line is \"lab01\\_Kingma\\_Hu\", the attached file should be \"lab01\\_Kingma\\_Hu.ipynb\". Only use underscores (\"\\_\") to connect names, otherwise the files cannot be parsed.\n",
    "* Make sure we can run your notebook / scripts!\n",
    "\n",
    "Notes on implementation:\n",
    "\n",
    "* You should write your code and answers in this IPython Notebook: http://ipython.org/notebook.html. If you have problems, please contact me.\n",
    "* Please write your answers right below the questions.\n",
    "* Among the first lines of your notebook should be \"%pylab inline\". This imports all required modules, and your plots will appear inline.\n",
    "* Refer to last week's lab notes, i.e. http://docs.scipy.org/doc/, if you are unsure about what function to use. There are different correct ways to implement each problem!\n",
    "* For this lab, your regression solutions should be in closed form, i.e., should not perform iterative gradient-based optimization but find the exact optimum directly."
   ]
  },
  {
   "cell_type": "markdown",
   "metadata": {},
   "source": [
    "$\\newcommand{\\bPhi}{\\mathbf{\\Phi}}$\n",
    "$\\newcommand{\\bx}{\\mathbf{x}}$\n",
    "$\\newcommand{\\bw}{\\mathbf{w}}$\n",
    "$\\newcommand{\\bt}{\\mathbf{t}}$\n",
    "$\\newcommand{\\by}{\\mathbf{y}}$\n",
    "$\\newcommand{\\bm}{\\mathbf{m}}$\n",
    "$\\newcommand{\\bS}{\\mathbf{S}}$\n",
    "$\\newcommand{\\bI}{\\mathbf{I}}$\n",
    "\n",
    "## Part 1: Polynomial Regression"
   ]
  },
  {
   "cell_type": "markdown",
   "metadata": {},
   "source": [
    "### 1.1. Generate sinusoidal data (5 points)\n",
    "Write a method `gen_sinusoidal(N)` that generates toy data like in fig 1.2 of the MLPR book. The method should have a parameter $N$, and should return $N$-dimensional vectors $\\bx$ and $\\bt$, where $\\bx$ contains evenly spaced values from 0 to (including) 2$\\pi$, and the elements $t_i$ of $\\bt$ are distributed according to:\n",
    "\n",
    "$$t_i \\sim \\mathcal{N}(\\mu_i, \\sigma^2)$$\n",
    "\n",
    "where $x_i$ is the $i$-th elements of $\\bf{x}$, the mean $\\mu_i = sin(x_i)$ and the standard deviation $\\sigma = 0.2$.\n"
   ]
  },
  {
   "cell_type": "code",
   "execution_count": 1,
   "metadata": {
    "collapsed": false
   },
   "outputs": [
    {
     "name": "stdout",
     "output_type": "stream",
     "text": [
      "Populating the interactive namespace from numpy and matplotlib\n"
     ]
    }
   ],
   "source": [
    "%pylab inline\n",
    "from pylab import *\n",
    "import math\n",
    "import numpy as np\n",
    "import matplotlib.pyplot as plt\n",
    "\n",
    "\n",
    "def gen_sinusoidal(n):\n",
    "    x = np.linspace(0, (2*np.pi), n) #generate a range for 0 to 2pi, with stepsize N\n",
    "    t = np.random.normal(np.sin(np.arange(0,2*np.pi,(np.pi*2)/n)),0.2,n) # Generate N datapoints width mu x(ni) and std 0.2\n",
    "    return x,array(t)"
   ]
  },
  {
   "cell_type": "markdown",
   "metadata": {},
   "source": [
    "### 1.2 Polynomial regression (15 points)\n",
    "\n",
    "Write a method `fit_polynomial(x, t, M)` that finds the maximum-likelihood solution of an _unregularized_ $M$-th order polynomial for some dataset `x`. The error function to minimize w.r.t. $\\bw$ is:\n",
    "\n",
    "$E(\\bw) = \\frac{1}{2} (\\bPhi\\bw - \\bt)^T(\\bPhi\\bw - \\bt)$\n",
    "\n",
    "where $\\bPhi$ is the _feature matrix_ (or _design matrix_) as explained in the MLPR book at section 3.1.1, $\\bt$ is the vector of target values. Your method should return a vector $\\bw$ with the maximum-likelihood parameter estimates. "
   ]
  },
  {
   "cell_type": "code",
   "execution_count": 2,
   "metadata": {
    "collapsed": false
   },
   "outputs": [],
   "source": [
    "x, t = gen_sinusoidal(9)\n",
    "\n",
    "def create_phi(x, M):                                                            \n",
    "    Phi = zeros((len(x), M+1))\n",
    "    \n",
    "    for i in  range(len(x)):\n",
    "        for degree in range(M+1): \n",
    "            Phi[i,degree] = x[i]**degree\n",
    "    return matrix(Phi)   \n",
    "\n",
    "def fit_polynomial(x, t, M):\n",
    "    # calculate W by setting derivative of E(w) to 0         \n",
    "    phi = create_phi(x,M)\n",
    "    Phi_T_Phi_inv = np.linalg.inv(np.dot(phi.transpose(), phi)) # partial calculation for w\n",
    "    w = np.dot(np.dot(Phi_T_Phi_inv, phi.transpose()), t) \n",
    "    return w  "
   ]
  },
  {
   "cell_type": "markdown",
   "metadata": {},
   "source": [
    "### 1.3 Plot (5 points)\n",
    "Sample a dataset with $N=9$, and fit four polynomials with $M \\in (0, 1, 3, 9)$.\n",
    "For each value of $M$, plot the prediction function, along with the data and the original sine function. The resulting figure should look similar to fig 1.4 of the MLPR book. Note that you can use matplotlib's `plt.pyplot(.)` functionality for creating grids of figures."
   ]
  },
  {
   "cell_type": "code",
   "execution_count": 3,
   "metadata": {
    "collapsed": false
   },
   "outputs": [
    {
     "data": {
      "image/png": "[encoded data removed]",
      "text/plain": [
       "<matplotlib.figure.Figure at 0xa2a1320>"
      ]
     },
     "metadata": {},
     "output_type": "display_data"
    }
   ],
   "source": [
    "def plot_polynomial(x, w, label=None):                         \n",
    "    y = np.array([sum(w.item(i) * (data_point ** i) for i in range(size(w, 1))) for data_point in x])\n",
    "    if label:\n",
    "        plt.plot(x,y,label=label)\n",
    "    else:\n",
    "        plt.plot(x, y)        \n",
    "\n",
    "x,t = gen_sinusoidal(10)\n",
    "\n",
    "sinus_data = np.linspace(0, (2*np.pi), 1000)\n",
    "\n",
    "M =  [0,1,3,9]\n",
    "sub_plot = 1\n",
    "for m in M:\n",
    "    plt.subplot(2,2,sub_plot)\n",
    "    plt.plot(sinus_data,np.sin(sinus_data), color = 'g')\n",
    "    plot_polynomial(sinus_data, fit_polynomial(x, t, m))\n",
    "    \n",
    "    plt.plot(x,t, 'o', color = 'r')\n",
    "    plt.xlabel('x')                                                           \n",
    "    plt.ylabel('t')\n",
    "    plt.title('M = %i'%(m))\n",
    "    plt.axis('tight')\n",
    "    plt.ylim(-1.5, 1.5) \n",
    "    plt.tight_layout()\n",
    "    sub_plot += 1\n",
    "plt.show()"
   ]
  },
  {
   "cell_type": "markdown",
   "metadata": {},
   "source": [
    "### 1.4 Regularized linear regression (10 points)\n",
    "\n",
    "Write a method `fit_polynomial_reg(x, t, M, lamb)` that fits a _regularized_ $M$-th order polynomial to the sinusoidal data, as discussed in the lectures, where `lamb` is the regularization term _lambda_. (Note that 'lambda' cannot be used as a variable name in Python since it has a special meaning). The error function to minimize w.r.t. $\\bw$:\n",
    "\n",
    "$E(\\bw) = \\frac{1}{2} (\\bPhi\\bw - \\bt)^T(\\bPhi\\bw - \\bt) + \\frac{\\lambda}{2} \\mathbf{w}^T \\mathbf{w}$\n",
    "\n",
    "For background, see section 3.1.4 of the MLPR book."
   ]
  },
  {
   "cell_type": "code",
   "execution_count": 4,
   "metadata": {
    "collapsed": false
   },
   "outputs": [],
   "source": [
    "def fit_polynomial_reg(x, t, M, lam):\n",
    "    phi = create_phi(x,M)\n",
    "    identity_matrix = np.eye(phi.shape[1])\n",
    "    reg = lam * identity_matrix\n",
    "    inverse = np.linalg.inv(reg + np.dot(phi.transpose(), phi))\n",
    "    w = np.dot(np.dot(inverse, phi.transpose()),t)\n",
    "    return w"
   ]
  },
  {
   "cell_type": "markdown",
   "metadata": {},
   "source": [
    "\n",
    "\n",
    "\n",
    "\n",
    "\n",
    "### 1.5 Model selection by cross-validation (10 points)\n",
    "Use cross-validation to find a good choice of $M$ and $\\lambda$, given a dataset of $N=9$ datapoints generated with `gen_sinusoidal(9)`. You should write a function that tries (loops over) a reasonable range of choices of $M$ and $\\lambda$, and returns the choice with the best cross-validation error. In this case you can use $K=9$ folds, corresponding to _leave-one-out_ crossvalidation.\n",
    "\n",
    "You can let $M \\in (0, 1, ..., 10)$, and let $\\lambda \\in (e^{-10}, e^{-9}, ..., e^{0})$.\n",
    "\n",
    "To get you started, here's a method you can use to generate indices of cross-validation folds."
   ]
  },
  {
   "cell_type": "code",
   "execution_count": 5,
   "metadata": {
    "collapsed": false
   },
   "outputs": [
    {
     "name": "stderr",
     "output_type": "stream",
     "text": [
      "C:\\Users\\gebruiker\\Anaconda\\lib\\site-packages\\ipykernel\\__main__.py:8: DeprecationWarning: using a non-integer number instead of an integer will result in an error in the future\n"
     ]
    },
    {
     "data": {
      "image/png": "[encoded data removed]",
      "text/plain": [
       "<matplotlib.figure.Figure at 0xb0bb400>"
      ]
     },
     "metadata": {},
     "output_type": "display_data"
    }
   ],
   "source": [
    "def kfold_indices(N, k):\n",
    "    all_indices = np.arange(N,dtype=int)\n",
    "    np.random.shuffle(all_indices)\n",
    "    idx = np.floor(np.linspace(0,N,k+1))\n",
    "    train_folds = []\n",
    "    valid_folds = []\n",
    "    for fold in range(k):\n",
    "        valid_indices = all_indices[idx[fold]:idx[fold+1]]\n",
    "        valid_folds.append(valid_indices)\n",
    "        train_folds.append(np.setdiff1d(all_indices, valid_indices))\n",
    "    return train_folds, valid_folds\n",
    "\n",
    "def cross_validation(train_folds, valid_folds,N,x,t):\n",
    "    M = range(0,11)\n",
    "    LAM = [math.exp(l) for l in range(-10,1)]\n",
    "    results = []\n",
    "    for m in M:\n",
    "        for lam in LAM:\n",
    "            squared_error = 0\n",
    "            for fold in valid_folds:\n",
    "                x_test = numpy.delete(x,fold[0])\n",
    "                t_test = numpy.delete(t,fold[0])\n",
    "                x_val = x[fold[0]] \n",
    "                t_val = t[fold[0]]\n",
    "                w = fit_polynomial_reg(x_test,t_test,m,lam)\n",
    "                y_val = 0\n",
    "                for wi in range(size(w,1)):\n",
    "                    y_val += w.item(wi) * (x_val ** wi)\n",
    "                squared_error += 0.5 * (t_val - y_val)**2 + lam/2 * w.dot(w.transpose())\n",
    "            av_squared_error = squared_error * (N**-1)      \n",
    "            results.append([m,lam,av_squared_error])\n",
    "    lowest_error = 100000\n",
    "    for result in results:\n",
    "        if result[2] < lowest_error:\n",
    "            lowest_error = result[2]\n",
    "            answer = result\n",
    "    return results, answer\n",
    "                                                           \n",
    "N = 9 \n",
    "x,t = gen_sinusoidal(N)\n",
    "train_folds, valid_folds = kfold_indices(9,9)\n",
    "results, answer = cross_validation(train_folds, valid_folds,N,x,t)\n",
    "for result in results:\n",
    "    if result == answer:\n",
    "        plt.plot(result[0],result[2],'o', color=\"y\") #highlight best answer\n",
    "    else:\n",
    "        plt.plot(result[0],result[2],'o', color=\"r\")\n",
    "plt.xlabel('M')                                                          \n",
    "plt.ylabel('Average Squared Error')  \n",
    "plt.show()"
   ]
  },
  {
   "cell_type": "markdown",
   "metadata": {},
   "source": [
    "Create a comprehensible plot of the cross-validation error for each choice of $M$ and $\\lambda$. Highlight the best choice. \n",
    "\n",
    "_Question_: Explain over-fitting and underfitting, illuminated by your plot. Explain the relationship with model bias and model variance."
   ]
  },
  {
   "cell_type": "markdown",
   "metadata": {},
   "source": [
    "Answer: Overfitting happens when the a function learns to well on its inputdata: it learns the noise as well. This means that it wouldn't generalise well, i.e. work wel with new data. Underfitting is the opposite: the model is to simple. the parameters simply design the function in such a way that it cannot explain the training data OR new data. Overfitting occurs when M is high (and lambda is low), underfitting occurs when M is low. We can also describe this by model bias and model variance. A high variance combined with a low bias will lead to underfitting, while high bias and low variance will lead to overfitting.\n",
    "\n",
    "\n"
   ]
  },
  {
   "cell_type": "markdown",
   "metadata": {},
   "source": [
    "### 1.6 Plot best cross-validated fit (5 points)\n",
    "\n",
    "For some dataset with $N = 9$, plot the model with the optimal $M$ and $\\lambda$ according to the cross-validation error, using the method you just wrote. Let the plot make clear which $M$ and $\\lambda$ were found."
   ]
  },
  {
   "cell_type": "code",
   "execution_count": 6,
   "metadata": {
    "collapsed": false
   },
   "outputs": [
    {
     "name": "stderr",
     "output_type": "stream",
     "text": [
      "C:\\Users\\gebruiker\\Anaconda\\lib\\site-packages\\ipykernel\\__main__.py:8: DeprecationWarning: using a non-integer number instead of an integer will result in an error in the future\n"
     ]
    },
    {
     "data": {
      "image/png": "[encoded data removed]",
      "text/plain": [
       "<matplotlib.figure.Figure at 0xa291358>"
      ]
     },
     "metadata": {},
     "output_type": "display_data"
    }
   ],
   "source": [
    "N = 9            \n",
    "x,t = gen_sinusoidal(N)\n",
    "train_folds, valid_folds = kfold_indices(9,9)\n",
    "results, answer = cross_validation(train_folds, valid_folds,N,x,t)\n",
    "\n",
    "m = answer[0]\n",
    "lam = answer[1]\n",
    "\n",
    "x_data = np.linspace(0, 2*math.pi, 1000)                                   \n",
    "plot_polynomial(x_data,fit_polynomial_reg(x,t,m,lam), label=\"best fit\")\n",
    "plt.plot(x_data, np.sin(x_data), label=\"true sine\")\n",
    "plt.plot(x,t, 'o', label = \"data\")\n",
    "plt.xlabel('x')                                                           \n",
    "plt.ylabel('t')\n",
    "plt.axis('tight')\n",
    "plt.ylim(-1.5, 1.5) \n",
    "plt.title(\"M = \" + str(m) + \", lambda = \" + str(lam))\n",
    "legend()\n",
    "plt.show()"
   ]
  },
  {
   "cell_type": "markdown",
   "metadata": {},
   "source": [
    "## Part 2: Bayesian Linear (Polynomial) Regression\n",
    "\n",
    "### 2.1 Sinusoidal data 2 (5 points)\n",
    "\n",
    "Write a function `gen_sinusoidal2(N)` that behaves identically to `gen_sinusoidal(N)` except that the generated values $x_i$ are not linearly spaced, but drawn from a uniform distribution between $0$ and $2 \\pi$."
   ]
  },
  {
   "cell_type": "code",
   "execution_count": 7,
   "metadata": {
    "collapsed": false
   },
   "outputs": [],
   "source": [
    "def gen_sinusoidal2(n):\n",
    "    x = np.random.uniform(0,2*np.pi,n) #generate a range for 0 to 2pi, with stepsize N\n",
    "    t = np.random.normal(np.sin(x),0.2,n) # Generate N datapoints width mu x(ni) and std 0.2\n",
    "    return x, t"
   ]
  },
  {
   "cell_type": "markdown",
   "metadata": {},
   "source": [
    "### 2.2 Compute Posterior (15 points)\n",
    "\n",
    "You're going to implement a Bayesian linear regression model, and fit it to the sinusoidal data. Your regression model has a zero-mean isotropic Gaussian prior over the parameters, governed by a single (scalar) precision parameter $\\alpha$, i.e.:\n",
    "\n",
    "$$p(\\bw \\;|\\; \\alpha) = \\mathcal{N}(\\bw \\;|\\; 0, \\alpha^{-1} \\bI)$$\n",
    "\n",
    "The covariance and mean of the posterior are given by:\n",
    "\n",
    "$$\\bS_N= \\left( \\alpha \\bI + \\beta \\bPhi^T \\bPhi \\right)^{-1} $$\n",
    "$$\\bm_N = \\beta\\; \\bS_N \\bPhi^T \\bt$$\n",
    "\n",
    "where $\\alpha$ is the precision of the predictive distribution, and $\\beta$ is the noise precision. \n",
    "See MLPR chapter 3.3 for background.\n",
    "\n",
    "Write a method `fit_polynomial_bayes(x, t, M, alpha, beta)` that returns the mean $\\bm_N$ and covariance $\\bS_N$ of the posterior for a $M$-th order polynomial, given a dataset, where `x`, `t` and `M` have the same meaning as in question 1.2."
   ]
  },
  {
   "cell_type": "code",
   "execution_count": 8,
   "metadata": {
    "collapsed": false
   },
   "outputs": [],
   "source": [
    "def fit_polynomial_bayes(x, t, M, alpha, beta):       \n",
    "    phi = np.zeros((len(x), M+1))\n",
    "    for i in  range(0,len(x)):\n",
    "        row = [] \n",
    "        for degree in range(0,M+1): # check if this ok or M or M-1\n",
    "            phi[i,degree] = x[i]**degree\n",
    "    N = size(phi,1)\n",
    "    I = np.identity(N) \n",
    "    sn = np.linalg.inv(alpha*I + beta*dot(phi.transpose(), phi))\n",
    "    mn = beta*(dot(dot(sn, phi.transpose()), t))                                        \n",
    "    return sn,mn "
   ]
  },
  {
   "cell_type": "markdown",
   "metadata": {},
   "source": [
    "### 2.3 Prediction (10 points)\n",
    "\n",
    "The predictive distribution of Bayesian linear regression is:\n",
    "\n",
    "$$ p(t \\;|\\; \\bx, \\bt, \\alpha, \\beta) = \\mathcal{N}(t \\;|\\; \\bm_N^T \\phi(\\bx), \\sigma_N^2(\\bx))$$\n",
    "\n",
    "$$ \\sigma_N^2 = \\frac{1}{\\beta} + \\phi(\\bx)^T \\bS_N \\phi(\\bx) $$\n",
    "\n",
    "where $\\phi(\\bx)$ are the computed features for a new datapoint $\\bx$, and $t$ is the predicted variable for datapoint $\\bx$. \n",
    "\n",
    "Write a function that `predict_polynomial_bayes(x, m, S, beta)` that returns the predictive mean and variance given a new datapoint `x`, posterior mean `m`, posterior variance `S` and a choice of model variance `beta`."
   ]
  },
  {
   "cell_type": "code",
   "execution_count": 9,
   "metadata": {
    "collapsed": false
   },
   "outputs": [],
   "source": [
    "def predict_polynomial_bayes(x, m, S, beta):\n",
    "    phi = numpy.zeros(shape=(1,len(m)))                                                                     \n",
    "    for i in range(0,len(m+1)):                                                    \n",
    "        phi[0,i] = x**i  \n",
    "    posterior_mean = np.dot(phi,m)  \n",
    "    posterior_var = beta**(-1) + np.dot(np.dot(phi, S), phi.transpose())                  \n",
    "    return posterior_mean, posterior_var"
   ]
  },
  {
   "cell_type": "markdown",
   "metadata": {},
   "source": [
    "### 2.4 Plot predictive distribution (10 points)\n",
    "\n",
    "a) (5 points) Generate 7 datapoints with `gen_sinusoidal2(7)`. Compute the posterior mean and covariance for a Bayesian polynomial regression model with $M=5$, $\\alpha=\\frac{1}{2}$ and $\\beta=\\frac{1}{0.2^2}$.\n",
    "Plot the Bayesian predictive distribution, where you plot (for $x$ between 0 and $2 \\pi$) $t$'s predictive mean and a 1-sigma predictive variance using `plt.fill_between(..., alpha=0.1)` (the alpha argument induces transparency).\n",
    "\n",
    "Include the datapoints in your plot.\n",
    "\n",
    "b) (5 points) For a second plot, draw 100 samples from the parameters' posterior distribution. Each of these samples is a certain choice of parameters for 5-th order polynomial regression. \n",
    "Display each of these 100 polynomials."
   ]
  },
  {
   "cell_type": "code",
   "execution_count": 13,
   "metadata": {
    "collapsed": false
   },
   "outputs": [
    {
     "data": {
      "image/png": "[encoded data removed]",
      "text/plain": [
       "<matplotlib.figure.Figure at 0xbb83208>"
      ]
     },
     "metadata": {},
     "output_type": "display_data"
    },
    {
     "name": "stdout",
     "output_type": "stream",
     "text": [
      "[[-0.03321171  0.50081635  0.18227178 -0.14236911  0.00330326  0.00236992]]\n",
      "[[ 0.49166177 -0.63156351  1.67042817 -1.26122668  0.34152946 -0.03004035]]\n",
      "[[ 0.13363784  1.03682523 -0.28697525 -0.11375769  0.03674477 -0.00245941]]\n",
      "[[-0.08044018  0.24207656  1.20229967 -0.99797938  0.2504691  -0.02013792]]\n",
      "[[ 0.53908466  0.39946266 -0.46242753  0.39862037 -0.15660425  0.0174336 ]]\n",
      "[[ 0.30729458 -0.39749606  0.95051682 -0.38183435  0.03115737  0.001499  ]]\n",
      "[[ 0.26946812  1.7374773  -1.30324861  0.22124869  0.02791692 -0.00672645]]\n",
      "[[ 0.08007327  1.85199427 -0.81613094 -0.1543922   0.11022041 -0.01225449]]\n",
      "[[-0.27450098  2.9797782  -1.6522922  -0.13274868  0.19451999 -0.02441945]]\n",
      "[[ 0.12174638  0.85536647 -0.04810723 -0.26989534  0.08426678 -0.00718456]]\n",
      "[[ 0.18636314  0.882907    0.2415245  -0.59989964  0.18878865 -0.0171205 ]]\n",
      "[[ 0.09235685  0.55282299  0.04122885 -0.02116211 -0.03273171  0.00572334]]\n",
      "[[ 0.68717282  1.78182231 -2.27266827  0.94246852 -0.16534875  0.01039403]]\n",
      "[[ 0.64216078 -0.4075023   0.57225407 -0.13067101 -0.04010686  0.00841826]]\n",
      "[[ 0.43555025 -1.15489102  1.18233029  0.06343003 -0.19570237  0.02755732]]\n",
      "[[ 0.15039043  0.98880447  0.6214155  -1.25288917  0.44529042 -0.0445392 ]]\n",
      "[[ 0.03901722  1.20825068  0.84635952 -1.44572209  0.48410889 -0.0468485 ]]\n",
      "[[ 0.11921786  1.752643   -0.96120589  0.18473896 -0.03175703  0.00342433]]\n",
      "[[  9.53229044e-04   1.13980398e+00  -6.06830192e-01   2.71717622e-01\n",
      "   -9.52231368e-02   1.06199017e-02]]\n",
      "[[ 0.05005623  1.10913763  0.22495989 -0.87540502  0.32218081 -0.03243524]]\n",
      "[[ 0.39217308 -0.84805167  1.8530899  -1.14290329  0.26572416 -0.02096997]]\n",
      "[[-0.19110835  0.16659436  1.18057995 -0.72845844  0.13104002 -0.007036  ]]\n",
      "[[ 0.15880861 -0.96686873  1.03813144  0.2112506  -0.25260056  0.03371897]]\n",
      "[[ 0.24946025  1.40335758 -0.4012583  -0.48060043  0.21638768 -0.02281568]]\n",
      "[[ 0.27228781 -0.56907201  2.80844637 -2.03199383  0.50936291 -0.04192221]]\n",
      "[[ 0.35571355 -0.17254303  1.36040829 -1.16831804  0.33139024 -0.02984781]]\n",
      "[[ 0.25843933  0.8523922   1.34662413 -2.03814331  0.70339424 -0.06979005]]\n",
      "[[ 0.06724007  0.59470944  0.79223168 -0.99938744  0.31024189 -0.02891637]]\n",
      "[[ 0.11751887  2.13105603 -1.72911216  0.55661619 -0.09467285  0.0067673 ]]\n",
      "[[ 0.09966035  0.88564397 -0.92939253  0.76925778 -0.276724    0.0293691 ]]\n",
      "[[ 0.32670043 -0.25988595  1.13155362 -0.65819568  0.1173179  -0.00628081]]\n",
      "[[ 0.14571741  1.31500667 -1.93851608  1.50805922 -0.47390575  0.04648728]]\n",
      "[[ 0.31336874  0.43012241  1.90256994 -2.44385433  0.83441053 -0.08316   ]]\n",
      "[[-0.00407133  1.21035007 -0.23807121 -0.35660658  0.14816488 -0.01524262]]\n",
      "[[ 0.03414034 -0.5474906  -0.03048372  0.79317701 -0.35604347  0.03924874]]\n",
      "[[ 0.44774698  0.42474151  0.02134834 -0.20667344  0.06877057 -0.00655806]]\n",
      "[[ 0.56790624 -0.37372296  1.14520642 -0.70405779  0.14704605 -0.01015763]]\n",
      "[[ 0.28592979  0.32200035  1.24948055 -1.43622234  0.45381978 -0.04321854]]\n",
      "[[ 0.39042178  1.630932   -2.3487829   1.35212453 -0.3446262   0.03020983]]\n",
      "[[ 0.33160785  0.36674565  0.57832312 -0.70715507  0.2115404  -0.0192202 ]]\n",
      "[[ 0.23363496 -0.13199253  0.19712598  0.27171449 -0.17489503  0.02169266]]\n",
      "[[ 0.1377282   1.3055912  -0.45562307 -0.20656181  0.10354618 -0.01080673]]\n",
      "[[ 0.32739229  0.16551533  0.27811171 -0.08073362 -0.02493041  0.00515747]]\n",
      "[[ 0.17446183  0.53664907  0.31177767 -0.30192017  0.05335692 -0.00229822]]\n",
      "[[ 0.53058032 -1.39186694  1.69844646 -0.45698369 -0.01478805  0.00887583]]\n",
      "[[ 0.13968572  1.08527473  0.76879184 -1.47412224  0.51745151 -0.05137156]]\n",
      "[[ 0.23427223 -0.04395358 -0.34217174  0.80602057 -0.34723489  0.0385075 ]]\n",
      "[[ 0.1642648   1.30138572 -0.69738789  0.02676923  0.03183593 -0.0040787 ]]\n",
      "[[ 0.8734418   1.50859571 -2.07090351  0.87669735 -0.15975208  0.01053687]]\n",
      "[[ 0.20205972  0.28514146  1.32397802 -1.36796635  0.41056499 -0.03786335]]\n",
      "[[ 0.01816663  0.39919601  0.26475743 -0.14279067 -0.01422254  0.0051813 ]]\n",
      "[[ 0.24038289  1.6197109  -1.50480257  0.65821164 -0.15580462  0.01374973]]\n",
      "[[-0.05038531  0.33655208  0.8456583  -0.62779832  0.13276814 -0.00893314]]\n",
      "[[ 0.37312558  0.13077029  0.90326286 -0.83356414  0.23201283 -0.02039208]]\n",
      "[[ 0.53858394  0.03859014  0.65509762 -0.70772771  0.21666179 -0.02026278]]\n",
      "[[  5.11357253e-03   5.47187994e-01   2.15855827e-01  -2.23275850e-01\n",
      "    3.01039162e-02  -1.01422738e-04]]\n",
      "[[ 0.28286143 -0.11775665 -0.17476863  0.98219467 -0.46410305  0.05300562]]\n",
      "[[ 0.52607792  0.5066763  -1.2590887   1.17882141 -0.40203893  0.04106313]]\n",
      "[[ 0.21145971  0.80595111 -0.29782402 -0.18368069  0.09442434 -0.01042248]]\n",
      "[[  2.87699472e-01  -2.63675975e-01   7.35835037e-01  -2.72208304e-01\n",
      "    3.03807243e-04   4.62381635e-03]]\n",
      "[[-0.02419993 -0.20180554  2.1338861  -1.56255335  0.38544005 -0.03116389]]\n",
      "[[ 0.24728587  1.92001677 -1.64079857  0.2930247   0.04590439 -0.01046199]]\n",
      "[[ 0.16432744 -0.43966606  1.89979912 -1.41049865  0.37096109 -0.03197483]]\n",
      "[[ 0.44335382 -0.553648    1.13488973 -0.58475616  0.09938429 -0.00520216]]\n",
      "[[ 0.05531603  1.05313375 -0.02199439 -0.22817472  0.04253868 -0.00131542]]\n",
      "[[ 0.80934407  0.1273881   0.37897146 -0.72982914  0.27172442 -0.02807853]]\n",
      "[[ 0.26633546  0.74276684 -0.27532832  0.08820692 -0.04521413  0.00600616]]\n",
      "[[ 0.63023162  0.47689562 -0.80687415  0.52693331 -0.15856905  0.01549693]]\n",
      "[[ 0.30695313  0.05852396  1.06896843 -1.03680901  0.30478839 -0.02780658]]\n",
      "[[ -1.67543195e-01   1.30863244e+00  -5.43552078e-01   3.46053161e-02\n",
      "    6.71923700e-03  -5.48680500e-04]]\n",
      "[[ 0.62750033  0.41751749  0.74902684 -1.1656156   0.40158896 -0.03968555]]\n",
      "[[-0.12224211  2.28253753  0.81599116 -2.45202493  0.93278055 -0.09625912]]\n",
      "[[ 0.58548258  0.65556024 -0.16328752 -0.4143371   0.18743238 -0.02027747]]\n",
      "[[ 0.33211763 -0.14519535  0.43461073  0.07151517 -0.12089279  0.01703053]]\n",
      "[[ 0.31276565 -0.59396549  1.33378588 -0.63033103  0.08907617 -0.00290131]]\n",
      "[[ 0.19116693  1.41817663 -1.03806239  0.28962176 -0.03984075  0.00217899]]\n",
      "[[ 0.18497007  1.2676202  -0.33188053 -0.51355212  0.24049831 -0.02635912]]\n",
      "[[-0.03204663  1.22299142 -1.55710549  1.21819774 -0.39778006  0.04014419]]\n",
      "[[ 0.27068335  1.5563694  -0.84570846 -0.03579428  0.07033619 -0.00843843]]\n",
      "[[ 0.68027452 -0.35348601  0.37908587  0.11687054 -0.13077513  0.01777095]]\n",
      "[[ 0.00313335  1.46427835  0.05140085 -0.81822565  0.30197915 -0.02991092]]\n",
      "[[ 0.69589595  0.22307213  0.71105865 -0.81268704  0.23652431 -0.02094319]]\n",
      "[[ 0.07577622  0.32048539  1.61092109 -1.5030506   0.42083609 -0.0369871 ]]\n",
      "[[ 0.23289897 -1.30363511  1.44076671  0.11024651 -0.26260426  0.03687111]]\n",
      "[[ 0.39132558 -0.44935221  1.63601008 -1.2782853   0.34796412 -0.03061639]]\n",
      "[[-0.11485986  0.90190167 -0.04114355 -0.18411127  0.03881393 -0.00176057]]\n",
      "[[ 0.3463392  -0.3943708   1.99273389 -1.71203742  0.5001096  -0.04622339]]\n",
      "[[-0.15080634  0.88125926  0.35577668 -0.55886218  0.15567135 -0.01304311]]\n",
      "[[  3.98388444e-01   8.77518787e-01  -4.16213064e-01   4.42283280e-03\n",
      "    7.56492988e-03  -1.52461432e-04]]\n",
      "[[ 0.21942639  0.5215305   0.32697504 -0.31665942  0.05475028 -0.00213134]]\n",
      "[[ 0.46509739  1.15238381 -0.11083919 -0.51239008  0.19152507 -0.01870368]]\n",
      "[[-0.16376034  0.65855216 -0.23250231  0.24942529 -0.12190608  0.01459247]]\n",
      "[[ 0.24570901  0.58226121  0.25785803 -0.37383403  0.09578553 -0.00736716]]\n",
      "[[ 0.03788646  1.11559305 -1.22554655  1.0063619  -0.35033084  0.03647706]]\n",
      "[[ 0.28221692  0.10467282  0.69735613 -0.50765654  0.1095486  -0.00769075]]\n",
      "[[-0.10364906  2.34772265  0.11675328 -1.61534335  0.64318233 -0.06700841]]\n",
      "[[ 0.46588272 -0.06927389  1.19717385 -1.09845216  0.31709381 -0.02873884]]\n",
      "[[ 0.15563501  0.45238806  0.68618635 -0.68383327  0.1759656  -0.01412942]]\n",
      "[[ 0.32193258  1.03056876 -0.15564953 -0.46995612  0.18839622 -0.01904109]]\n",
      "[[ 0.15372795  0.73926988  0.48667154 -0.88729734  0.30420592 -0.02990492]]\n"
     ]
    },
    {
     "data": {
      "image/png": "[encoded data removed]",
      "text/plain": [
       "<matplotlib.figure.Figure at 0xa85b8d0>"
      ]
     },
     "metadata": {},
     "output_type": "display_data"
    }
   ],
   "source": [
    "def model_output(x, w):\n",
    "    output = []\n",
    "    for data_point in x: \n",
    "        data = []\n",
    "        for i in range(0, len(w)):\n",
    "            data.append(w[i]*( data_point ** i))\n",
    "        output.append(np.sum(data))\n",
    "    return output\n",
    "\n",
    "\n",
    "res = 1000 \n",
    "beta = (0.2**2)**-1\n",
    "alpha = 0.5\n",
    "m = 5\n",
    "x, t = gen_sinusoidal2(7)                                              \n",
    "sn, mn = fit_polynomial_bayes(x, t, m, alpha, beta)\n",
    "sinus_data = np.linspace(0, (2*np.pi), 1000)\n",
    "plt.plot(sinus_data, np.sin(sinus_data),sinus_data , model_output(sinus_data, mn),  x, t, 'o')\n",
    "\n",
    "upper_boundary = []                                                                   \n",
    "lower_boundary = [] \n",
    "\n",
    "for x in sinus_data:                                                                 \n",
    "    posterior_mean, posterior_var = predict_polynomial_bayes(x, mn, sn, beta)                    \n",
    "    upper_boundary.append(float(posterior_mean) + sqrt(float(posterior_var)))                                           \n",
    "    lower_boundary.append(float(posterior_mean) - sqrt(float(posterior_var)))                                           \n",
    "                                                                                 \n",
    "plt.fill_between(sinus_data, upper_boundary, lower_boundary, alpha=0.1)                                \n",
    "plt.show()\n",
    "\n",
    "mn = [mn.item(i) for i in range(6)]                                          \n",
    "for i in range(100):                                                         \n",
    "    mu = matrix(np.random.multivariate_normal(mn, sn))                               \n",
    "    print mu                                                          \n",
    "    plt.plot(sinus_data, model_output(sinus_data,mu), color='r')                                       \n",
    "\n",
    "plt.show()\n",
    "\n",
    "    "
   ]
  },
  {
   "cell_type": "markdown",
   "metadata": {},
   "source": [
    "### 2.5 Additional questions (10 points)\n",
    "a) (5 points) Why is $\\beta=\\frac{1}{0.2^2}$ the best choice of $\\beta$ in section 2.4?\n",
    "\n",
    "Answer: Because the standard deviation sigma, described in 2.3 is 0.2. We set $\\beta$ to $\\beta=\\frac{1}{0.2^2}$ because the other part of the expression is controlled through the model itself. \n",
    "\n",
    "b) (5 points) In the case of Bayesian linear regression, both the posterior of the parameters $p(\\bw \\;|\\; \\bt, \\alpha, \\beta)$ and the predictive distribution $p(t \\;|\\; \\bw, \\beta)$ are Gaussian. In consequence (and conveniently), $p(t \\;|\\; \\bt, \\alpha, \\beta)$ is also Gaussian (See MLPR section 3.3.2 and homework 2 question 4). This is actually one of the (rare) cases where we can make Bayesian predictions without resorting to approximative methods.\n",
    "\n",
    "Suppose you have to work with some model $p(t\\;|\\;x,\\bw)$ with parameters $\\bw$, where the posterior distribution $p(\\bw\\;|\\;\\mathcal{D})$ given dataset $\\mathcal{D}$ can not be integrated out when making predictions, but where you can still generate samples from the posterior distribution of the parameters. Explain how you can still make approximate Bayesian predictions using samples from the parameters' posterior distribution.\n",
    "\n",
    "Answer: we can sample from the posterior distribution and predict the parameters using a maximum likelihood estimation of maximum A posterior (MLE or MAP). In this way, your predictions will still be a general approximate. "
   ]
  }
 ],
 "metadata": {
  "kernelspec": {
   "display_name": "Python 2",
   "language": "python",
   "name": "python2"
  },
  "language_info": {
   "codemirror_mode": {
    "name": "ipython",
    "version": 2
   },
   "file_extension": ".py",
   "mimetype": "text/x-python",
   "name": "python",
   "nbconvert_exporter": "python",
   "pygments_lexer": "ipython2",
   "version": "2.7.10"
  }
 },
 "nbformat": 4,
 "nbformat_minor": 0
}
